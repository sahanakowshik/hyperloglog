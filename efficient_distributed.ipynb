{
 "cells": [
  {
   "cell_type": "code",
   "execution_count": 1,
   "metadata": {},
   "outputs": [],
   "source": [
    "import hyperloglog\n",
    "import random\n",
    "import string\n",
    "import seaborn as sns\n",
    "import matplotlib.pyplot as plt\n",
    "import pandas as pd\n",
    "import numpy as np\n",
    "import math"
   ]
  },
  {
   "cell_type": "markdown",
   "metadata": {},
   "source": [
    "## One example"
   ]
  },
  {
   "cell_type": "code",
   "execution_count": 138,
   "metadata": {},
   "outputs": [],
   "source": [
    "# Parameters\n",
    "k = 32  # Number of HLL centers\n",
    "m = 100000  # Total set size with multiplicities\n",
    "p = 1000 # Total unique elements\n",
    "precision = 0.01"
   ]
  },
  {
   "cell_type": "code",
   "execution_count": 125,
   "metadata": {},
   "outputs": [],
   "source": [
    "def random_string(length=30):\n",
    "    return ''.join(random.choices(string.ascii_letters, k=length))\n",
    "\n",
    "# items = [random_string() for _ in range(m)]\n",
    "pool = [random_string() for _ in range(p)]  # or any base size\n",
    "\n",
    "# Sample m items from this pool with replacement\n",
    "items = random.choices(pool, k=m)"
   ]
  },
  {
   "cell_type": "markdown",
   "metadata": {},
   "source": [
    "### Get the estimate as if processing everything at one center"
   ]
  },
  {
   "cell_type": "code",
   "execution_count": 126,
   "metadata": {},
   "outputs": [],
   "source": [
    "test_one_center = hyperloglog.HyperLogLog(precision)"
   ]
  },
  {
   "cell_type": "code",
   "execution_count": 127,
   "metadata": {},
   "outputs": [
    {
     "name": "stdout",
     "output_type": "stream",
     "text": [
      "Processing everything at one center: 1002\n"
     ]
    }
   ],
   "source": [
    "for item in items:\n",
    "    test_one_center.add(item)\n",
    "one_center_cardinality = len(test_one_center)\n",
    "print(f\"Processing everything at one center: {one_center_cardinality}\")"
   ]
  },
  {
   "cell_type": "markdown",
   "metadata": {},
   "source": [
    "### Processing at k different centers"
   ]
  },
  {
   "cell_type": "code",
   "execution_count": 139,
   "metadata": {},
   "outputs": [],
   "source": [
    "# Create HLLs\n",
    "centers = [hyperloglog.HyperLogLog(precision) for _ in range(k)]"
   ]
  },
  {
   "cell_type": "code",
   "execution_count": 140,
   "metadata": {},
   "outputs": [],
   "source": [
    "check = {i:0 for i in range(k)}"
   ]
  },
  {
   "cell_type": "code",
   "execution_count": 141,
   "metadata": {},
   "outputs": [],
   "source": [
    "# Assign each item to a random HLL\n",
    "for item in items:\n",
    "    center_idx = random.randint(0, k - 1)\n",
    "    centers[center_idx].add(item)\n",
    "    check[center_idx] += 1"
   ]
  },
  {
   "cell_type": "code",
   "execution_count": 142,
   "metadata": {},
   "outputs": [],
   "source": [
    "# check"
   ]
  },
  {
   "cell_type": "code",
   "execution_count": 143,
   "metadata": {},
   "outputs": [],
   "source": [
    "# # Optionally, inspect each center's estimate\n",
    "# estimates = [len(center) for center in centers]\n",
    "# for i, est in enumerate(estimates):\n",
    "#     print(f\"Center {i}: Estimated count = {est}\")\n",
    "\n",
    "# # Total estimated cardinality across all centers\n",
    "# total_estimated = sum(estimates)\n",
    "# print(f\"\\nSum of individual HLL estimates: {total_estimated}\")\n",
    "# print(f\"Actual number of items: {m}\")"
   ]
  },
  {
   "cell_type": "code",
   "execution_count": 144,
   "metadata": {},
   "outputs": [],
   "source": [
    "coordinator = hyperloglog.HyperLogLog(precision)"
   ]
  },
  {
   "cell_type": "code",
   "execution_count": 145,
   "metadata": {},
   "outputs": [],
   "source": [
    "num_iterations = int(math.log(k, 2))\n",
    "number_bits = len(coordinator.M)\n",
    "index = 0\n",
    "bits = math.ceil(number_bits // num_iterations)"
   ]
  },
  {
   "cell_type": "code",
   "execution_count": 146,
   "metadata": {},
   "outputs": [],
   "source": [
    "updated_centers = centers"
   ]
  },
  {
   "cell_type": "code",
   "execution_count": 147,
   "metadata": {},
   "outputs": [
    {
     "name": "stdout",
     "output_type": "stream",
     "text": [
      "0\n",
      "16\n",
      "3276\n",
      "8\n",
      "6552\n",
      "4\n",
      "9828\n",
      "2\n",
      "13104\n",
      "1\n",
      "Processing in a distributed manner: 1001\n"
     ]
    }
   ],
   "source": [
    "for _ in range(num_iterations):\n",
    "    print(index)\n",
    "    intermediate_M = [[0 for _ in range(0, index)] + center.M[index:min(index+bits,number_bits)] + [0 for _ in range(min(index+bits,number_bits),number_bits)] for center in updated_centers]\n",
    "\n",
    "    for i in range(len(updated_centers)):\n",
    "        coordinator.update_M(intermediate_M[i])\n",
    "    \n",
    "    top_half_indices = sorted(\n",
    "        range(len(updated_centers)),\n",
    "        key=lambda i: np.mean(centers[i].M[:min(index+bits,number_bits)]) if len(centers[i].M) >= 10 else -np.inf,\n",
    "        reverse=True\n",
    "    )[:len(updated_centers) // 2]\n",
    "\n",
    "    updated_centers = [centers[i] for i in top_half_indices]\n",
    "    \n",
    "    print(len(updated_centers))\n",
    "    index = min(index+bits,number_bits)\n",
    "\n",
    "distributed_cardinality = len(coordinator)\n",
    "print(f\"Processing in a distributed manner: {distributed_cardinality}\")"
   ]
  },
  {
   "cell_type": "code",
   "execution_count": null,
   "metadata": {},
   "outputs": [],
   "source": []
  },
  {
   "cell_type": "code",
   "execution_count": 149,
   "metadata": {},
   "outputs": [
    {
     "name": "stdout",
     "output_type": "stream",
     "text": [
      "The difference between the estimates of processing all the items at once center and in a distributed setting: 1\n"
     ]
    }
   ],
   "source": [
    "print(f\"The difference between the estimates of processing all the items at once center and in a distributed setting: {one_center_cardinality - distributed_cardinality}\")"
   ]
  },
  {
   "cell_type": "code",
   "execution_count": null,
   "metadata": {},
   "outputs": [],
   "source": []
  },
  {
   "cell_type": "markdown",
   "metadata": {},
   "source": [
    "### Ablation results\n",
    "- Keep the number of distinct elements p and number of centers k constant and vary the set size m\n",
    "- Keep the number of distinct elements p and set size m constant and vary the number of centers k\n",
    "- k,m constant; p vary\n"
   ]
  },
  {
   "cell_type": "code",
   "execution_count": null,
   "metadata": {},
   "outputs": [],
   "source": []
  }
 ],
 "metadata": {
  "kernelspec": {
   "display_name": "ds563",
   "language": "python",
   "name": "python3"
  },
  "language_info": {
   "codemirror_mode": {
    "name": "ipython",
    "version": 3
   },
   "file_extension": ".py",
   "mimetype": "text/x-python",
   "name": "python",
   "nbconvert_exporter": "python",
   "pygments_lexer": "ipython3",
   "version": "3.12.0"
  }
 },
 "nbformat": 4,
 "nbformat_minor": 2
}
