{
 "cells": [
  {
   "cell_type": "code",
   "execution_count": 1,
   "metadata": {},
   "outputs": [],
   "source": [
    "import hyperloglog\n",
    "import random\n",
    "import string\n",
    "import seaborn as sns\n",
    "import matplotlib.pyplot as plt\n",
    "import pandas as pd\n",
    "import numpy as np"
   ]
  },
  {
   "cell_type": "code",
   "execution_count": 2,
   "metadata": {},
   "outputs": [],
   "source": [
    "# Parameters\n",
    "k = 16  # Number of HLL centers\n",
    "m = 1600  # Total unique elements\n",
    "precision = 0.01"
   ]
  },
  {
   "cell_type": "code",
   "execution_count": 3,
   "metadata": {},
   "outputs": [],
   "source": [
    "def random_string(length=30):\n",
    "    return ''.join(random.choices(string.ascii_letters, k=length))\n",
    "\n",
    "items = [random_string() for _ in range(m)]"
   ]
  },
  {
   "cell_type": "markdown",
   "metadata": {},
   "source": [
    "### Get the estimate as if processing everything at one center"
   ]
  },
  {
   "cell_type": "code",
   "execution_count": 4,
   "metadata": {},
   "outputs": [],
   "source": [
    "test_one_center = hyperloglog.HyperLogLog(precision)"
   ]
  },
  {
   "cell_type": "code",
   "execution_count": 5,
   "metadata": {},
   "outputs": [
    {
     "name": "stdout",
     "output_type": "stream",
     "text": [
      "Processing everything at one center: 1607\n"
     ]
    }
   ],
   "source": [
    "for item in items:\n",
    "    test_one_center.add(item)\n",
    "one_center_cardinality = len(test_one_center)\n",
    "print(f\"Processing everything at one center: {one_center_cardinality}\")"
   ]
  },
  {
   "cell_type": "code",
   "execution_count": 14,
   "metadata": {},
   "outputs": [
    {
     "data": {
      "text/plain": [
       "1600"
      ]
     },
     "execution_count": 14,
     "metadata": {},
     "output_type": "execute_result"
    }
   ],
   "source": [
    "len(set(items))"
   ]
  },
  {
   "cell_type": "markdown",
   "metadata": {},
   "source": [
    "### Processing at k different centers"
   ]
  },
  {
   "cell_type": "code",
   "execution_count": 6,
   "metadata": {},
   "outputs": [],
   "source": [
    "# Create HLLs\n",
    "centers = [hyperloglog.HyperLogLog(precision) for _ in range(k)]"
   ]
  },
  {
   "cell_type": "code",
   "execution_count": 7,
   "metadata": {},
   "outputs": [],
   "source": [
    "# Assign each item to a random HLL\n",
    "for item in items:\n",
    "    center_idx = random.randint(0, k - 1)\n",
    "    centers[center_idx].add(item)"
   ]
  },
  {
   "cell_type": "code",
   "execution_count": 8,
   "metadata": {},
   "outputs": [
    {
     "name": "stdout",
     "output_type": "stream",
     "text": [
      "Center 0: Estimated count = 93\n",
      "Center 1: Estimated count = 81\n",
      "Center 2: Estimated count = 105\n",
      "Center 3: Estimated count = 115\n",
      "Center 4: Estimated count = 112\n",
      "Center 5: Estimated count = 109\n",
      "Center 6: Estimated count = 94\n",
      "Center 7: Estimated count = 79\n",
      "Center 8: Estimated count = 100\n",
      "Center 9: Estimated count = 98\n",
      "Center 10: Estimated count = 102\n",
      "Center 11: Estimated count = 105\n",
      "Center 12: Estimated count = 120\n",
      "Center 13: Estimated count = 102\n",
      "Center 14: Estimated count = 101\n",
      "Center 15: Estimated count = 83\n",
      "\n",
      "Sum of individual HLL estimates: 1599\n",
      "Actual number of items: 1600\n"
     ]
    }
   ],
   "source": [
    "# Optionally, inspect each center's estimate\n",
    "estimates = [len(center) for center in centers]\n",
    "for i, est in enumerate(estimates):\n",
    "    print(f\"Center {i}: Estimated count = {est}\")\n",
    "\n",
    "# Total estimated cardinality across all centers\n",
    "total_estimated = sum(estimates)\n",
    "print(f\"\\nSum of individual HLL estimates: {total_estimated}\")\n",
    "print(f\"Actual number of items: {m}\")"
   ]
  },
  {
   "cell_type": "code",
   "execution_count": 9,
   "metadata": {},
   "outputs": [],
   "source": [
    "coordinator = hyperloglog.HyperLogLog(precision)"
   ]
  },
  {
   "cell_type": "code",
   "execution_count": 10,
   "metadata": {},
   "outputs": [],
   "source": [
    "for index in range(k):\n",
    "    coordinator.update(centers[index])"
   ]
  },
  {
   "cell_type": "code",
   "execution_count": 11,
   "metadata": {},
   "outputs": [
    {
     "name": "stdout",
     "output_type": "stream",
     "text": [
      "Processing in a distributed manner: 1607\n"
     ]
    }
   ],
   "source": [
    "distributed_cardinality = len(coordinator)\n",
    "print(f\"Processing in a distributed manner: {distributed_cardinality}\")"
   ]
  },
  {
   "cell_type": "code",
   "execution_count": 12,
   "metadata": {},
   "outputs": [
    {
     "name": "stdout",
     "output_type": "stream",
     "text": [
      "The estimate of processing all the items at once center and in a distributed setting is equal: True\n"
     ]
    }
   ],
   "source": [
    "print(f\"The estimate of processing all the items at once center and in a distributed setting is equal: {one_center_cardinality == distributed_cardinality}\")"
   ]
  },
  {
   "cell_type": "code",
   "execution_count": null,
   "metadata": {},
   "outputs": [],
   "source": []
  }
 ],
 "metadata": {
  "kernelspec": {
   "display_name": "ds563",
   "language": "python",
   "name": "python3"
  },
  "language_info": {
   "codemirror_mode": {
    "name": "ipython",
    "version": 3
   },
   "file_extension": ".py",
   "mimetype": "text/x-python",
   "name": "python",
   "nbconvert_exporter": "python",
   "pygments_lexer": "ipython3",
   "version": "3.12.0"
  }
 },
 "nbformat": 4,
 "nbformat_minor": 2
}
