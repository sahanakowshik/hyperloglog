{
 "cells": [
  {
   "cell_type": "code",
   "execution_count": 1,
   "metadata": {},
   "outputs": [],
   "source": [
    "import hyperloglog\n",
    "import random\n",
    "import string\n",
    "import seaborn as sns\n",
    "import matplotlib.pyplot as plt\n",
    "import pandas as pd\n",
    "import numpy as np"
   ]
  },
  {
   "cell_type": "markdown",
   "metadata": {},
   "source": [
    "## One example"
   ]
  },
  {
   "cell_type": "code",
   "execution_count": 2,
   "metadata": {},
   "outputs": [],
   "source": [
    "k = 32  # Number of HLL centers\n",
    "m = 100000  # Total set size with multiplicities\n",
    "p = 1000 # Total unique elements\n",
    "precision = 0.01"
   ]
  },
  {
   "cell_type": "code",
   "execution_count": 3,
   "metadata": {},
   "outputs": [],
   "source": [
    "def random_string(length=30):\n",
    "    return ''.join(random.choices(string.ascii_letters, k=length))\n",
    "\n",
    "# items = [random_string() for _ in range(m)]\n",
    "pool = [random_string() for _ in range(p)]  # or any base size\n",
    "\n",
    "# Sample m items from this pool with replacement\n",
    "items = random.choices(pool, k=m)"
   ]
  },
  {
   "cell_type": "code",
   "execution_count": 6,
   "metadata": {},
   "outputs": [],
   "source": [
    "# # Parameters\n",
    "# k = 16  # Number of HLL centers\n",
    "# m = 1600  # Total unique elements\n",
    "# precision = 0.01"
   ]
  },
  {
   "cell_type": "code",
   "execution_count": 7,
   "metadata": {},
   "outputs": [],
   "source": [
    "# def random_string(length=30):\n",
    "#     return ''.join(random.choices(string.ascii_letters, k=length))\n",
    "\n",
    "# items = [random_string() for _ in range(m)]"
   ]
  },
  {
   "cell_type": "markdown",
   "metadata": {},
   "source": [
    "### Get the estimate as if processing everything at one center"
   ]
  },
  {
   "cell_type": "code",
   "execution_count": 4,
   "metadata": {},
   "outputs": [],
   "source": [
    "test_one_center = hyperloglog.HyperLogLog(precision)"
   ]
  },
  {
   "cell_type": "code",
   "execution_count": 5,
   "metadata": {},
   "outputs": [
    {
     "name": "stdout",
     "output_type": "stream",
     "text": [
      "Processing everything at one center: 999\n"
     ]
    }
   ],
   "source": [
    "for item in items:\n",
    "    test_one_center.add(item)\n",
    "one_center_cardinality = len(test_one_center)\n",
    "print(f\"Processing everything at one center: {one_center_cardinality}\")"
   ]
  },
  {
   "cell_type": "code",
   "execution_count": 6,
   "metadata": {},
   "outputs": [
    {
     "data": {
      "text/plain": [
       "1000"
      ]
     },
     "execution_count": 6,
     "metadata": {},
     "output_type": "execute_result"
    }
   ],
   "source": [
    "len(set(items))"
   ]
  },
  {
   "cell_type": "markdown",
   "metadata": {},
   "source": [
    "### Processing at k different centers"
   ]
  },
  {
   "cell_type": "code",
   "execution_count": 7,
   "metadata": {},
   "outputs": [],
   "source": [
    "# Create HLLs\n",
    "centers = [hyperloglog.HyperLogLog(precision) for _ in range(k)]"
   ]
  },
  {
   "cell_type": "code",
   "execution_count": 8,
   "metadata": {},
   "outputs": [],
   "source": [
    "# Assign each item to a random HLL\n",
    "for item in items:\n",
    "    center_idx = random.randint(0, k - 1)\n",
    "    centers[center_idx].add(item)"
   ]
  },
  {
   "cell_type": "code",
   "execution_count": 9,
   "metadata": {},
   "outputs": [],
   "source": [
    "# # Optionally, inspect each center's estimate\n",
    "# estimates = [len(center) for center in centers]\n",
    "# for i, est in enumerate(estimates):\n",
    "#     print(f\"Center {i}: Estimated count = {est}\")\n",
    "\n",
    "# # Total estimated cardinality across all centers\n",
    "# total_estimated = sum(estimates)\n",
    "# print(f\"\\nSum of individual HLL estimates: {total_estimated}\")\n",
    "# print(f\"Actual number of items: {m}\")"
   ]
  },
  {
   "cell_type": "code",
   "execution_count": 10,
   "metadata": {},
   "outputs": [],
   "source": [
    "coordinator = hyperloglog.HyperLogLog(precision)"
   ]
  },
  {
   "cell_type": "code",
   "execution_count": 11,
   "metadata": {},
   "outputs": [],
   "source": [
    "for index in range(k):\n",
    "    coordinator.update(centers[index])"
   ]
  },
  {
   "cell_type": "code",
   "execution_count": 12,
   "metadata": {},
   "outputs": [
    {
     "name": "stdout",
     "output_type": "stream",
     "text": [
      "Processing in a distributed manner: 999\n"
     ]
    }
   ],
   "source": [
    "distributed_cardinality = len(coordinator)\n",
    "print(f\"Processing in a distributed manner: {distributed_cardinality}\")"
   ]
  },
  {
   "cell_type": "code",
   "execution_count": 13,
   "metadata": {},
   "outputs": [
    {
     "name": "stdout",
     "output_type": "stream",
     "text": [
      "The estimate of processing all the items at once center and in a distributed setting is equal: True\n"
     ]
    }
   ],
   "source": [
    "print(f\"The estimate of processing all the items at once center and in a distributed setting is equal: {one_center_cardinality == distributed_cardinality}\")"
   ]
  },
  {
   "cell_type": "code",
   "execution_count": null,
   "metadata": {},
   "outputs": [],
   "source": []
  },
  {
   "cell_type": "markdown",
   "metadata": {},
   "source": [
    "## Multiple runs"
   ]
  },
  {
   "cell_type": "markdown",
   "metadata": {},
   "source": [
    "### k constant p constant"
   ]
  },
  {
   "cell_type": "code",
   "execution_count": 43,
   "metadata": {},
   "outputs": [],
   "source": [
    "# Parameters\n",
    "k = 32  # Number of HLL centers\n",
    "precision = 0.01\n",
    "num_trials = 10\n",
    "p = 1000 # Total unique elements\n",
    "m_values = [500, 1000, 5000, 10000, 20000, 50000, 100000]\n",
    "\n",
    "# Random string generator\n",
    "def random_string(length=30):\n",
    "    return ''.join(random.choices(string.ascii_letters, k=length))"
   ]
  },
  {
   "cell_type": "code",
   "execution_count": 44,
   "metadata": {},
   "outputs": [],
   "source": [
    "pool = [random_string() for _ in range(p)]  # or any base size"
   ]
  },
  {
   "cell_type": "code",
   "execution_count": 45,
   "metadata": {},
   "outputs": [],
   "source": [
    "# Run experiment\n",
    "results = []\n",
    "\n",
    "for m in m_values:\n",
    "    for trial in range(num_trials):\n",
    "        # items = [random_string() for _ in range(m)]\n",
    "        # Sample m items from this pool with replacement\n",
    "        items = random.choices(pool, k=m)\n",
    "\n",
    "        # One-center estimate\n",
    "        hll_one = hyperloglog.HyperLogLog(precision)\n",
    "        for item in items:\n",
    "            hll_one.add(item)\n",
    "        one_center_est = len(hll_one)\n",
    "\n",
    "        # Distributed estimate (merge later)\n",
    "        centers = [hyperloglog.HyperLogLog(precision) for _ in range(k)]\n",
    "        for item in items:\n",
    "            centers[random.randint(0, k - 1)].add(item)\n",
    "        coordinator = hyperloglog.HyperLogLog(precision)\n",
    "        for center in centers:\n",
    "            coordinator.update(center)\n",
    "        distributed_est = len(coordinator)\n",
    "\n",
    "        # Store errors\n",
    "        results.append({\n",
    "            \"m\": m,\n",
    "            \"mode\": \"One Center\",\n",
    "            \"abs_error\": abs(one_center_est - p)\n",
    "        })\n",
    "        results.append({\n",
    "            \"m\": m,\n",
    "            \"mode\": \"Distributed\",\n",
    "            \"abs_error\": abs(distributed_est - p)\n",
    "        })\n",
    "        \n",
    "# Convert to DataFrame\n",
    "df_m = pd.DataFrame(results)"
   ]
  },
  {
   "cell_type": "code",
   "execution_count": 46,
   "metadata": {},
   "outputs": [],
   "source": [
    "# Filter to only 'Distributed' mode\n",
    "df_dist = df_m[df_m[\"mode\"] == \"Distributed\"]"
   ]
  },
  {
   "cell_type": "code",
   "execution_count": 47,
   "metadata": {},
   "outputs": [
    {
     "data": {
      "text/html": [
       "<div>\n",
       "<style scoped>\n",
       "    .dataframe tbody tr th:only-of-type {\n",
       "        vertical-align: middle;\n",
       "    }\n",
       "\n",
       "    .dataframe tbody tr th {\n",
       "        vertical-align: top;\n",
       "    }\n",
       "\n",
       "    .dataframe thead th {\n",
       "        text-align: right;\n",
       "    }\n",
       "</style>\n",
       "<table border=\"1\" class=\"dataframe\">\n",
       "  <thead>\n",
       "    <tr style=\"text-align: right;\">\n",
       "      <th></th>\n",
       "      <th>m</th>\n",
       "      <th>mode</th>\n",
       "      <th>abs_error</th>\n",
       "    </tr>\n",
       "  </thead>\n",
       "  <tbody>\n",
       "    <tr>\n",
       "      <th>1</th>\n",
       "      <td>500</td>\n",
       "      <td>Distributed</td>\n",
       "      <td>618</td>\n",
       "    </tr>\n",
       "    <tr>\n",
       "      <th>3</th>\n",
       "      <td>500</td>\n",
       "      <td>Distributed</td>\n",
       "      <td>615</td>\n",
       "    </tr>\n",
       "    <tr>\n",
       "      <th>5</th>\n",
       "      <td>500</td>\n",
       "      <td>Distributed</td>\n",
       "      <td>603</td>\n",
       "    </tr>\n",
       "    <tr>\n",
       "      <th>7</th>\n",
       "      <td>500</td>\n",
       "      <td>Distributed</td>\n",
       "      <td>600</td>\n",
       "    </tr>\n",
       "    <tr>\n",
       "      <th>9</th>\n",
       "      <td>500</td>\n",
       "      <td>Distributed</td>\n",
       "      <td>600</td>\n",
       "    </tr>\n",
       "    <tr>\n",
       "      <th>...</th>\n",
       "      <td>...</td>\n",
       "      <td>...</td>\n",
       "      <td>...</td>\n",
       "    </tr>\n",
       "    <tr>\n",
       "      <th>131</th>\n",
       "      <td>100000</td>\n",
       "      <td>Distributed</td>\n",
       "      <td>0</td>\n",
       "    </tr>\n",
       "    <tr>\n",
       "      <th>133</th>\n",
       "      <td>100000</td>\n",
       "      <td>Distributed</td>\n",
       "      <td>0</td>\n",
       "    </tr>\n",
       "    <tr>\n",
       "      <th>135</th>\n",
       "      <td>100000</td>\n",
       "      <td>Distributed</td>\n",
       "      <td>0</td>\n",
       "    </tr>\n",
       "    <tr>\n",
       "      <th>137</th>\n",
       "      <td>100000</td>\n",
       "      <td>Distributed</td>\n",
       "      <td>0</td>\n",
       "    </tr>\n",
       "    <tr>\n",
       "      <th>139</th>\n",
       "      <td>100000</td>\n",
       "      <td>Distributed</td>\n",
       "      <td>0</td>\n",
       "    </tr>\n",
       "  </tbody>\n",
       "</table>\n",
       "<p>70 rows × 3 columns</p>\n",
       "</div>"
      ],
      "text/plain": [
       "          m         mode  abs_error\n",
       "1       500  Distributed        618\n",
       "3       500  Distributed        615\n",
       "5       500  Distributed        603\n",
       "7       500  Distributed        600\n",
       "9       500  Distributed        600\n",
       "..      ...          ...        ...\n",
       "131  100000  Distributed          0\n",
       "133  100000  Distributed          0\n",
       "135  100000  Distributed          0\n",
       "137  100000  Distributed          0\n",
       "139  100000  Distributed          0\n",
       "\n",
       "[70 rows x 3 columns]"
      ]
     },
     "execution_count": 47,
     "metadata": {},
     "output_type": "execute_result"
    }
   ],
   "source": [
    "df_dist"
   ]
  },
  {
   "cell_type": "code",
   "execution_count": 48,
   "metadata": {},
   "outputs": [
    {
     "data": {
      "image/png": "[encoded data removed]",
      "text/plain": [
       "<Figure size 1000x600 with 1 Axes>"
      ]
     },
     "metadata": {},
     "output_type": "display_data"
    }
   ],
   "source": [
    "\n",
    "# Plotting function for distributed mode\n",
    "def plot_distributed_only(df, y=\"abs_error\", ylabel=\"Average Absolute Error\"):\n",
    "    plt.figure(figsize=(10, 6))\n",
    "    sns.lineplot(data=df, x=\"m\", y=y, marker=\"o\", errorbar=\"sd\")\n",
    "    plt.title(\"HyperLogLog Accuracy in Distributed Setting\")\n",
    "    plt.xlabel(\"Set size (m)\")\n",
    "    plt.ylabel(ylabel)\n",
    "    plt.grid(True)\n",
    "    plt.tight_layout()\n",
    "    plt.show()\n",
    "\n",
    "# Call plot\n",
    "plot_distributed_only(df_dist)"
   ]
  },
  {
   "cell_type": "markdown",
   "metadata": {},
   "source": [
    "### k constant m constant"
   ]
  },
  {
   "cell_type": "code",
   "execution_count": 33,
   "metadata": {},
   "outputs": [],
   "source": [
    "# Parameters\n",
    "k = 32  # Number of HLL centers\n",
    "precision = 0.01\n",
    "num_trials = 10\n",
    "m = 10000 # set size\n",
    "p_values = [100, 500, 1000, 2000, 5000, 10000] # Total unique elements\n",
    "\n",
    "# Random string generator\n",
    "def random_string(length=30):\n",
    "    return ''.join(random.choices(string.ascii_letters, k=length))"
   ]
  },
  {
   "cell_type": "code",
   "execution_count": 34,
   "metadata": {},
   "outputs": [],
   "source": [
    "# # Experiment settings\n",
    "# m = 10000\n",
    "# k_values = [1, 2, 4, 8, 16, 32, 64]\n",
    "# num_trials = 1\n",
    "# precision = 0.01\n",
    "\n",
    "# # Random string generator\n",
    "# def random_string(length=30):\n",
    "#     return ''.join(random.choices(string.ascii_letters, k=length))"
   ]
  },
  {
   "cell_type": "code",
   "execution_count": null,
   "metadata": {},
   "outputs": [],
   "source": []
  },
  {
   "cell_type": "code",
   "execution_count": 35,
   "metadata": {},
   "outputs": [],
   "source": [
    "# Run experiment\n",
    "results_p = []\n",
    "\n",
    "for p in p_values:\n",
    "    pool = [random_string() for _ in range(p)]  # or any base size\n",
    "    for _ in range(num_trials):\n",
    "        items = random.choices(pool, k=m)\n",
    "        # Create k centers\n",
    "        centers = [hyperloglog.HyperLogLog(precision) for _ in range(k)]\n",
    "\n",
    "        # Assign items to centers\n",
    "        for item in items:\n",
    "            centers[random.randint(0, k - 1)].add(item)\n",
    "\n",
    "        # Merge estimates\n",
    "        coordinator = hyperloglog.HyperLogLog(precision)\n",
    "        for center in centers:\n",
    "            coordinator.update(center)\n",
    "\n",
    "        est = len(coordinator)\n",
    "        abs_error = abs(est - p)\n",
    "\n",
    "        results_p.append({\n",
    "            \"p\": p,\n",
    "            \"abs_error\": abs_error\n",
    "        })\n",
    "\n",
    "# Convert to DataFrame\n",
    "df_p = pd.DataFrame(results_p)"
   ]
  },
  {
   "cell_type": "code",
   "execution_count": 36,
   "metadata": {},
   "outputs": [
    {
     "data": {
      "image/png": "[encoded data removed]",
      "text/plain": [
       "<Figure size 1000x600 with 1 Axes>"
      ]
     },
     "metadata": {},
     "output_type": "display_data"
    }
   ],
   "source": [
    "# Plotting function\n",
    "def plot_error_vs_centers(df, y=\"abs_error\", ylabel=\"Average Absolute Error\"):\n",
    "    plt.figure(figsize=(10, 6))\n",
    "    sns.lineplot(data=df, x=\"p\", y=y, marker=\"o\", errorbar=\"sd\")\n",
    "    plt.title(\"Effect of Number of HLL Centers on Estimation Accuracy\")\n",
    "    plt.xlabel(\"Number of unique items (p)\")\n",
    "    plt.ylabel(ylabel)\n",
    "    plt.grid(True)\n",
    "    plt.tight_layout()\n",
    "    plt.show()\n",
    "\n",
    "# Call plot\n",
    "plot_error_vs_centers(df_p)"
   ]
  },
  {
   "cell_type": "code",
   "execution_count": null,
   "metadata": {},
   "outputs": [],
   "source": []
  }
 ],
 "metadata": {
  "kernelspec": {
   "display_name": "ds563",
   "language": "python",
   "name": "python3"
  },
  "language_info": {
   "codemirror_mode": {
    "name": "ipython",
    "version": 3
   },
   "file_extension": ".py",
   "mimetype": "text/x-python",
   "name": "python",
   "nbconvert_exporter": "python",
   "pygments_lexer": "ipython3",
   "version": "3.12.0"
  }
 },
 "nbformat": 4,
 "nbformat_minor": 2
}
